{
 "cells": [
  {
   "attachments": {},
   "cell_type": "markdown",
   "metadata": {
    "nbgrader": {
     "grade": false,
     "grade_id": "cell-8a142f231cff6cac",
     "locked": true,
     "schema_version": 3,
     "solution": false,
     "task": false
    }
   },
   "source": [
    "### Colab Activity 21.2: Basic Weight Update\n",
    "\n",
    "**Expected Time = 60 minutes**\n",
    "\n",
    "\n",
    "This activity focuses on updating the weights to improve the performance of the network.  To demonstrate this update process, a basic loss function together with its derivative are implements to update the randomly initialized weights.  You begin with a very basic dataset meant to replicate the logic gate problems surrounding the early ANN models.\n",
    "\n",
    "#### Index\n",
    "\n",
    "- [Problem 1](#-Problem-1)\n",
    "- [Problem 2](#-Problem-2)\n",
    "- [Problem 3](#-Problem-3)\n",
    "- [Problem 4](#-Problem-4)\n",
    "- [Problem 5](#-Problem-5)\n",
    "- [Problem 6](#-Problem-6)"
   ]
  },
  {
   "cell_type": "code",
   "execution_count": 1,
   "metadata": {},
   "outputs": [],
   "source": [
    "import numpy as np\n",
    "import matplotlib.pyplot as plt"
   ]
  },
  {
   "cell_type": "code",
   "execution_count": 2,
   "metadata": {},
   "outputs": [],
   "source": [
    "#set up our data\n",
    "X = np.array([[0, 0], [0, 1], [1, 0], [1, 1]])\n",
    "y = np.array([0, 1, 1, 1])"
   ]
  },
  {
   "cell_type": "code",
   "execution_count": 3,
   "metadata": {},
   "outputs": [],
   "source": [
    "#subset no and yes\n",
    "nos = X[y == 0]\n",
    "yesses = X[y == 1]"
   ]
  },
  {
   "cell_type": "code",
   "execution_count": 6,
   "metadata": {},
   "outputs": [
    {
     "data": {
      "image/png": "[encoded data removed]",
      "text/plain": [
       "<Figure size 432x288 with 1 Axes>"
      ]
     },
     "metadata": {
      "needs_background": "light"
     },
     "output_type": "display_data"
    }
   ],
   "source": [
    "#plot our examples\n",
    "plt.scatter(nos[:, 0], nos[:, 1], marker = 'x', s = 400)\n",
    "plt.scatter(yesses[:, 0], yesses[:, 1], marker = '+', s = 400)\n",
    "plt.title(\"Can we separate?\");"
   ]
  },
  {
   "attachments": {},
   "cell_type": "markdown",
   "metadata": {
    "nbgrader": {
     "grade": false,
     "grade_id": "cell-816b04fea4f5aea8",
     "locked": true,
     "schema_version": 3,
     "solution": false,
     "task": false
    }
   },
   "source": [
    "[Back to top](#-Index)\n",
    "\n",
    "### Problem 1\n",
    "\n",
    "#### Preparing the Data\n",
    "\n",
    "\n",
    "\n",
    "To prepare the data for modeling, you will need to add a bias term.  \n",
    "\n",
    "In the code cell below, prepend a column of `-1`'s to the array `X` and save the new array as `Xt` below."
   ]
  },
  {
   "cell_type": "code",
   "execution_count": null,
   "metadata": {
    "nbgrader": {
     "grade": false,
     "grade_id": "cell-103d03f5f8c7df86",
     "locked": false,
     "schema_version": 3,
     "solution": true,
     "task": false
    }
   },
   "outputs": [
    {
     "name": "stdout",
     "output_type": "stream",
     "text": [
      "[[-1.  0.  0.]\n",
      " [-1.  0.  1.]\n",
      " [-1.  1.  0.]\n",
      " [-1.  1.  1.]]\n"
     ]
    }
   ],
   "source": [
    "\n",
    "b = np.ones((X.shape[0], 1)) * -1\n",
    "Xt = np.concatenate((b, X), axis = 1)\n",
    "\n",
    "\n",
    "### ANSWER CHECK\n",
    "print(Xt)"
   ]
  },
  {
   "attachments": {},
   "cell_type": "markdown",
   "metadata": {
    "nbgrader": {
     "grade": false,
     "grade_id": "cell-a72cc0b839e09bec",
     "locked": true,
     "schema_version": 3,
     "solution": false,
     "task": false
    }
   },
   "source": [
    "[Back to top](#-Index)\n",
    "\n",
    "### Problem 2\n",
    "\n",
    "#### Initializing the weights\n",
    "\n",
    "\n",
    "\n",
    "Below, an array of weights `w` is given for both the bias term and the two features. Use matrix multiplication to apply these weights to `Xt`.  Assign the result to the variable `weighted_sum` below."
   ]
  },
  {
   "cell_type": "code",
   "execution_count": 9,
   "metadata": {},
   "outputs": [],
   "source": [
    "#weight array\n",
    "w = np.array([-0.05, -0.02, 0.02])"
   ]
  },
  {
   "cell_type": "code",
   "execution_count": null,
   "metadata": {
    "nbgrader": {
     "grade": false,
     "grade_id": "cell-cec95097950fa80b",
     "locked": false,
     "schema_version": 3,
     "solution": true,
     "task": false
    }
   },
   "outputs": [
    {
     "name": "stdout",
     "output_type": "stream",
     "text": [
      "[0.05 0.07 0.03 0.05]\n"
     ]
    }
   ],
   "source": [
    "\n",
    "weighted_sum = Xt@w\n",
    "\n",
    "\n",
    "### ANSWER CHECK\n",
    "print(weighted_sum)"
   ]
  },
  {
   "attachments": {},
   "cell_type": "markdown",
   "metadata": {
    "nbgrader": {
     "grade": false,
     "grade_id": "cell-52cef374dc288e3d",
     "locked": true,
     "schema_version": 3,
     "solution": false,
     "task": false
    }
   },
   "source": [
    "[Back to top](#-Index)\n",
    "\n",
    "### Problem 3\n",
    "\n",
    "#### Activation Function\n",
    "\n",
    "\n",
    "\n",
    "Now, use the basic threshold activation function `where` on `weighted_sum` to output 1 if the input is greater than 0, otherwise label it 0.  Assign the values to the variable `predictions` below. "
   ]
  },
  {
   "cell_type": "code",
   "execution_count": null,
   "metadata": {
    "nbgrader": {
     "grade": false,
     "grade_id": "cell-bb2fbe7497f3dd70",
     "locked": false,
     "schema_version": 3,
     "solution": true,
     "task": false
    }
   },
   "outputs": [
    {
     "name": "stdout",
     "output_type": "stream",
     "text": [
      "[1 1 1 1]\n"
     ]
    }
   ],
   "source": [
    "\n",
    "predictions = np.where(weighted_sum > 0, 1, 0)\n",
    "\n",
    "\n",
    "### ANSWER CHECK\n",
    "print(predictions)"
   ]
  },
  {
   "attachments": {},
   "cell_type": "markdown",
   "metadata": {
    "nbgrader": {
     "grade": false,
     "grade_id": "cell-f8662a09712e5f06",
     "locked": true,
     "schema_version": 3,
     "solution": false,
     "task": false
    }
   },
   "source": [
    "[Back to top](#-Index)\n",
    "\n",
    "### Problem 4\n",
    "\n",
    "#### Weight Update\n",
    "\n",
    "\n",
    "\n",
    "Next, you want to update the initial weights using the following formula for gradient descent with learning rate $\\alpha$:\n",
    "\n",
    "$$w_{i + 1} = w_{i} + \\alpha(y - \\hat{y})x$$\n",
    "\n",
    "In the code cell below, use this formula to update the initial weights with $\\alpha = 0.1$. Assign the results to `w2` below."
   ]
  },
  {
   "cell_type": "code",
   "execution_count": null,
   "metadata": {
    "nbgrader": {
     "grade": false,
     "grade_id": "cell-776473e47d7aea82",
     "locked": false,
     "schema_version": 3,
     "solution": true,
     "task": false
    }
   },
   "outputs": [
    {
     "name": "stdout",
     "output_type": "stream",
     "text": [
      "[ 0.05 -0.02  0.02]\n"
     ]
    }
   ],
   "source": [
    "\n",
    "w2 = w + 0.1*(y - predictions)@Xt\n",
    "\n",
    "\n",
    "### ANSWER CHECK\n",
    "print(w2)"
   ]
  },
  {
   "attachments": {},
   "cell_type": "markdown",
   "metadata": {
    "nbgrader": {
     "grade": false,
     "grade_id": "cell-d5c0000f77834d0e",
     "locked": true,
     "schema_version": 3,
     "solution": false,
     "task": false
    }
   },
   "source": [
    "[Back to top](#-Index)\n",
    "\n",
    "### Problem 5\n",
    "\n",
    "#### Putting it together\n",
    "\n",
    "\n",
    "\n",
    "In the code cell below, use a `for` loop to define a model that performs ten iterations of the weight updates.  What is the accuracy of the model after 10 iterations?  Assign this result to `ans5` below."
   ]
  },
  {
   "cell_type": "code",
   "execution_count": null,
   "metadata": {
    "nbgrader": {
     "grade": false,
     "grade_id": "cell-d14c584598e7240c",
     "locked": false,
     "schema_version": 3,
     "solution": true,
     "task": false
    }
   },
   "outputs": [
    {
     "name": "stdout",
     "output_type": "stream",
     "text": [
      "1.0\n",
      "[0.05 0.18 0.22]\n",
      "[0 1 1 1]\n"
     ]
    }
   ],
   "source": [
    "\n",
    "w = np.array([-0.05, -0.02, 0.02])\n",
    "for i in range(10):\n",
    "    #perform our estimation\n",
    "    predictions = np.where(Xt@w > 0, 1, 0)\n",
    "    #print(preds)\n",
    "    #weight update\n",
    "    w = w + 0.1*(y - predictions)@Xt\n",
    "ans5 = sum(predictions == y)/len(y)\n",
    "\n",
    "\n",
    "### ANSWER CHECK\n",
    "print(ans5)\n",
    "print(w)\n",
    "print(predictions)"
   ]
  },
  {
   "attachments": {},
   "cell_type": "markdown",
   "metadata": {
    "nbgrader": {
     "grade": false,
     "grade_id": "cell-c15d47533b2398b6",
     "locked": true,
     "schema_version": 3,
     "solution": false,
     "task": false
    }
   },
   "source": [
    "[Back to top](#-Index)\n",
    "\n",
    "### Problem 6\n",
    "\n",
    "#### A Larger Example\n",
    "\n",
    "\n",
    "\n",
    "Below, a second example is constructed using a synthetic dataset.  Your goal is to use the algorithm for updating the weights.  Determie the accuracy and assign as `ans6` below."
   ]
  },
  {
   "cell_type": "code",
   "execution_count": 18,
   "metadata": {},
   "outputs": [],
   "source": [
    "from sklearn.datasets import make_blobs"
   ]
  },
  {
   "cell_type": "code",
   "execution_count": 19,
   "metadata": {},
   "outputs": [],
   "source": [
    "X, y = make_blobs(centers = 2, center_box=(-3, 3), random_state = 22)"
   ]
  },
  {
   "cell_type": "code",
   "execution_count": 20,
   "metadata": {},
   "outputs": [
    {
     "data": {
      "image/png": "[encoded data removed]",
      "text/plain": [
       "<Figure size 432x288 with 1 Axes>"
      ]
     },
     "metadata": {
      "needs_background": "light"
     },
     "output_type": "display_data"
    }
   ],
   "source": [
    "plt.scatter(X[:, 0], X[:, 1], c = y)\n",
    "plt.grid()\n",
    "plt.title('Synthetic Binary Dataset');"
   ]
  },
  {
   "cell_type": "code",
   "execution_count": null,
   "metadata": {
    "nbgrader": {
     "grade": false,
     "grade_id": "cell-9994b902165537c5",
     "locked": false,
     "schema_version": 3,
     "solution": true,
     "task": false
    }
   },
   "outputs": [
    {
     "name": "stdout",
     "output_type": "stream",
     "text": [
      "[-1.4         7.85617133  9.69891443]\n",
      "1.0\n"
     ]
    }
   ],
   "source": [
    "\n",
    "w = np.array([0, 0, 0])\n",
    "biases = np.ones((X.shape[0], 1))\n",
    "X2 = np.concatenate((biases, X), axis = 1)\n",
    "for i in range(100):\n",
    "    #perform our estimation\n",
    "    predictions = np.where(X2@w > 0, 1, 0)\n",
    "    #print(preds)\n",
    "    #weight update\n",
    "    w = w + 0.1*(y - predictions)@X2\n",
    "ans6 = sum(predictions == y)/len(y)\n",
    "\n",
    "\n",
    "### ANSWER CHECK\n",
    "print(w)\n",
    "print(ans6)"
   ]
  },
  {
   "cell_type": "code",
   "execution_count": null,
   "metadata": {},
   "outputs": [],
   "source": []
  }
 ],
 "metadata": {
  "celltoolbar": "Create Assignment",
  "kernelspec": {
   "display_name": "Python 3 (ipykernel)",
   "language": "python",
   "name": "python3"
  },
  "language_info": {
   "codemirror_mode": {
    "name": "ipython",
    "version": 3
   },
   "file_extension": ".py",
   "mimetype": "text/x-python",
   "name": "python",
   "nbconvert_exporter": "python",
   "pygments_lexer": "ipython3",
   "version": "3.9.11"
  },
  "widgets": {
   "application/vnd.jupyter.widget-state+json": {
    "state": {},
    "version_major": 2,
    "version_minor": 0
   }
  }
 },
 "nbformat": 4,
 "nbformat_minor": 4
}
