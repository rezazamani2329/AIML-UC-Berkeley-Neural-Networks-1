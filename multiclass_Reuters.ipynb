{
 "cells": [
  {
   "cell_type": "code",
   "execution_count": 1,
   "id": "cfa2c620",
   "metadata": {},
   "outputs": [],
   "source": [
    "import matplotlib.pyplot as plt"
   ]
  },
  {
   "cell_type": "markdown",
   "id": "bdbce4e0",
   "metadata": {},
   "source": [
    "+ classify Reuters newswires into 6 mutually exclusive topics\n",
    "+ instance of single-label multiclass classification. If each data point could belong to multiple categories (in this case, topics), we’d be facing a multilabel multiclass classification problem."
   ]
  },
  {
   "cell_type": "markdown",
   "id": "81b15fa9",
   "metadata": {},
   "source": [
    "## Reuters dataset"
   ]
  },
  {
   "cell_type": "markdown",
   "id": "1b7642db",
   "metadata": {},
   "source": [
    "+ set of short newswires and their topics, published by Reuters in 1986"
   ]
  },
  {
   "cell_type": "code",
   "execution_count": 2,
   "id": "4795fdda",
   "metadata": {},
   "outputs": [
    {
     "name": "stdout",
     "output_type": "stream",
     "text": [
      "Downloading data from https://storage.googleapis.com/tensorflow/tf-keras-datasets/reuters.npz\n",
      "2113536/2110848 [==============================] - 0s 0us/step\n"
     ]
    },
    {
     "name": "stderr",
     "output_type": "stream",
     "text": [
      "/home/gomes/miniconda3/envs/d178/lib/python3.9/site-packages/tensorflow/python/keras/datasets/reuters.py:148: VisibleDeprecationWarning: Creating an ndarray from ragged nested sequences (which is a list-or-tuple of lists-or-tuples-or ndarrays with different lengths or shapes) is deprecated. If you meant to do this, you must specify 'dtype=object' when creating the ndarray.\n",
      "  x_train, y_train = np.array(xs[:idx]), np.array(labels[:idx])\n",
      "/home/gomes/miniconda3/envs/d178/lib/python3.9/site-packages/tensorflow/python/keras/datasets/reuters.py:149: VisibleDeprecationWarning: Creating an ndarray from ragged nested sequences (which is a list-or-tuple of lists-or-tuples-or ndarrays with different lengths or shapes) is deprecated. If you meant to do this, you must specify 'dtype=object' when creating the ndarray.\n",
      "  x_test, y_test = np.array(xs[idx:]), np.array(labels[idx:])\n"
     ]
    }
   ],
   "source": [
    "from tensorflow.keras.datasets import reuters\n",
    "(train_data, train_labels), (test_data, test_labels) = reuters.load_data(\n",
    "    num_words=10000)"
   ]
  },
  {
   "cell_type": "code",
   "execution_count": 3,
   "id": "47f9c76d",
   "metadata": {},
   "outputs": [
    {
     "data": {
      "text/plain": [
       "(8982, numpy.ndarray, list, 87)"
      ]
     },
     "execution_count": 3,
     "metadata": {},
     "output_type": "execute_result"
    }
   ],
   "source": [
    "len(train_data), type(train_data), type(train_data[0]), len(train_data[0])"
   ]
  },
  {
   "cell_type": "code",
   "execution_count": 4,
   "id": "aaea610e",
   "metadata": {},
   "outputs": [
    {
     "data": {
      "text/plain": [
       "(2246, numpy.ndarray, list, 145)"
      ]
     },
     "execution_count": 4,
     "metadata": {},
     "output_type": "execute_result"
    }
   ],
   "source": [
    "len(test_data), type(test_data), type(test_data[0]), len(test_data[0])"
   ]
  },
  {
   "cell_type": "markdown",
   "id": "34a258dc",
   "metadata": {},
   "source": [
    "## Decode it back to words"
   ]
  },
  {
   "cell_type": "code",
   "execution_count": 5,
   "id": "9c9af814",
   "metadata": {},
   "outputs": [
    {
     "name": "stdout",
     "output_type": "stream",
     "text": [
      "Downloading data from https://storage.googleapis.com/tensorflow/tf-keras-datasets/reuters_word_index.json\n",
      "557056/550378 [==============================] - 0s 0us/step\n"
     ]
    }
   ],
   "source": [
    "word_index = reuters.get_word_index()\n",
    "reverse_word_index = dict([(value, key) for (key, value) in word_index.items()])"
   ]
  },
  {
   "cell_type": "code",
   "execution_count": 6,
   "id": "1af88ee3",
   "metadata": {},
   "outputs": [],
   "source": [
    "decoded_newswire = \" \".join([reverse_word_index.get(i - 3, \"?\") for i in     train_data[0]])"
   ]
  },
  {
   "cell_type": "code",
   "execution_count": 7,
   "id": "bfb29247",
   "metadata": {},
   "outputs": [
    {
     "data": {
      "text/plain": [
       "'? ? ? said as a result of its december acquisition of space co it expects earnings per share in 1987 of 1 15 to 1 30 dlrs per share up from 70 cts in 1986 the company said pretax net should rise to nine to 10 mln dlrs from six mln dlrs in 1986 and rental operation revenues to 19 to 22 mln dlrs from 12 5 mln dlrs it said cash flow per share this year should be 2 50 to three dlrs reuter 3'"
      ]
     },
     "execution_count": 7,
     "metadata": {},
     "output_type": "execute_result"
    }
   ],
   "source": [
    "decoded_newswire"
   ]
  },
  {
   "cell_type": "markdown",
   "id": "3be333f6",
   "metadata": {},
   "source": [
    "\n",
    "\n",
    "The label associated with an example is an integer between 0 and 45—a topic index:\n"
   ]
  },
  {
   "cell_type": "code",
   "execution_count": 8,
   "id": "3d10d323",
   "metadata": {},
   "outputs": [
    {
     "data": {
      "text/plain": [
       "3"
      ]
     },
     "execution_count": 8,
     "metadata": {},
     "output_type": "execute_result"
    }
   ],
   "source": [
    "train_labels[10]"
   ]
  },
  {
   "cell_type": "markdown",
   "id": "0f30c337",
   "metadata": {},
   "source": [
    "## Preparing the data\n",
    "You can’t directly feed lists of integers into a neural network. They all have different lengths, but a neural network expects to process contiguous batches of data. You have to turn your lists into tensors. There are two ways to do that:\n",
    "\n",
    "+ Pad your lists so that they all have the same length, turn them into an integer tensor of shape (samples, max_length), and start your model with a layer capable of handling such integer tensors (the Embedding layer, which we’ll cover in detail later in the book).\n",
    " \n",
    "+ Multi-hot encode your lists to turn them into vectors of 0s and 1s. This would mean, for instance, turning the sequence [8, 5] into a 10,000-dimensional vector that would be all 0s except for indices 8 and 5, which would be 1s. Then you could use a Dense layer, capable of handling floating-point vector data, as the first layer in your model.\n",
    "\n",
    "Let’s go with the latter solution to vectorize the data, which you’ll do manually for maximum clarity.\n"
   ]
  },
  {
   "cell_type": "code",
   "execution_count": 9,
   "id": "615de17a",
   "metadata": {},
   "outputs": [],
   "source": [
    "import numpy as np \n",
    "def vectorize_sequences(sequences, dimension=10000): \n",
    "    results = np.zeros((len(sequences), dimension))\n",
    "    for i, sequence in enumerate(sequences):\n",
    "        for j in sequence:\n",
    "            results[i, j] = 1.\n",
    "    return results\n"
   ]
  },
  {
   "cell_type": "code",
   "execution_count": 10,
   "id": "6ba1f208",
   "metadata": {},
   "outputs": [],
   "source": [
    "x_train = vectorize_sequences(train_data)\n",
    "x_test = vectorize_sequences(test_data)"
   ]
  },
  {
   "cell_type": "markdown",
   "id": "49aef239",
   "metadata": {},
   "source": [
    "To vectorize the labels, there are two possibilities: you can cast the label list as an integer tensor, or you can use one-hot encoding. One-hot encoding is a widely used format for categorical data, also called categorical encoding. In this case, one-hot encoding of the labels consists of embedding each label as an all-zero vector with a 1 in the place of the label index. The following listing shows an example."
   ]
  },
  {
   "cell_type": "code",
   "execution_count": 11,
   "id": "17aa8b87",
   "metadata": {},
   "outputs": [],
   "source": [
    "def to_one_hot(labels, dimension=46):\n",
    "    results = np.zeros((len(labels), dimension))\n",
    "    for i, label in enumerate(labels):\n",
    "        results[i, label] = 1. \n",
    "    return results"
   ]
  },
  {
   "cell_type": "code",
   "execution_count": 12,
   "id": "197f6650",
   "metadata": {},
   "outputs": [],
   "source": [
    "y_train = to_one_hot(train_labels)\n",
    "y_test = to_one_hot(test_labels)"
   ]
  },
  {
   "cell_type": "markdown",
   "id": "6d3a65d4",
   "metadata": {},
   "source": [
    "Note that there is a built-in way to do this in Keras:"
   ]
  },
  {
   "cell_type": "code",
   "execution_count": 13,
   "id": "a36ae8b2",
   "metadata": {},
   "outputs": [],
   "source": [
    "from tensorflow.keras.utils import to_categorical\n",
    "y_train = to_categorical(train_labels)\n",
    "y_test = to_categorical(test_labels)"
   ]
  },
  {
   "cell_type": "markdown",
   "id": "c048a417",
   "metadata": {},
   "source": [
    "## Building your model"
   ]
  },
  {
   "cell_type": "markdown",
   "id": "48455c6b",
   "metadata": {},
   "source": [
    "In a stack of Dense layers like those we’ve been using, each layer can only access information present in the output of the previous layer. If one layer drops some information relevant to the classification problem, this information can never be recovered by later layers: each layer can potentially become an information bottleneck. In the previous example, we used 16-dimensional intermediate layers, but a 16-dimensional space may be too limited to learn to separate 46 different classes: such small layers may act as information bottlenecks, permanently dropping relevant information.\n",
    "\n",
    "For this reason we’ll use larger layers. Let’s go with 64 units."
   ]
  },
  {
   "cell_type": "code",
   "execution_count": 14,
   "id": "7adf7613",
   "metadata": {},
   "outputs": [],
   "source": [
    "from tensorflow import keras \n",
    "from tensorflow.keras import layers"
   ]
  },
  {
   "cell_type": "code",
   "execution_count": 15,
   "id": "453fbda9",
   "metadata": {},
   "outputs": [
    {
     "name": "stderr",
     "output_type": "stream",
     "text": [
      "2021-11-16 12:38:28.106931: I tensorflow/core/platform/cpu_feature_guard.cc:142] This TensorFlow binary is optimized with oneAPI Deep Neural Network Library (oneDNN) to use the following CPU instructions in performance-critical operations:  SSE4.1 SSE4.2 AVX AVX2 FMA\n",
      "To enable them in other operations, rebuild TensorFlow with the appropriate compiler flags.\n"
     ]
    }
   ],
   "source": [
    "model = keras.Sequential([\n",
    "    layers.Dense(64, activation=\"relu\"),\n",
    "    layers.Dense(64, activation=\"relu\"),\n",
    "    layers.Dense(46, activation=\"softmax\")\n",
    "])"
   ]
  },
  {
   "cell_type": "markdown",
   "id": "0668139e",
   "metadata": {},
   "source": [
    "Note\n",
    "\n",
    "+ output is softmax of size 46. This is for 46 classes\n",
    "+ softmax was introduced with MNIST. This means the output will be probability.\n",
    "+ best loss function for this is categorical_crossentropy\n"
   ]
  },
  {
   "cell_type": "markdown",
   "id": "a025a0d7",
   "metadata": {},
   "source": [
    "### Compile the model"
   ]
  },
  {
   "cell_type": "code",
   "execution_count": 16,
   "id": "1e3c2ea2",
   "metadata": {},
   "outputs": [],
   "source": [
    "model.compile(optimizer=\"rmsprop\",\n",
    "              loss=\"categorical_crossentropy\",\n",
    "              metrics=[\"accuracy\"])"
   ]
  },
  {
   "cell_type": "markdown",
   "id": "4cc9a992",
   "metadata": {},
   "source": [
    "### Validating set"
   ]
  },
  {
   "cell_type": "code",
   "execution_count": 17,
   "id": "d09e134a",
   "metadata": {},
   "outputs": [],
   "source": [
    "x_val = x_train[:1000]\n",
    "partial_x_train = x_train[1000:]\n",
    "y_val = y_train[:1000]\n",
    "partial_y_train = y_train[1000:]"
   ]
  },
  {
   "cell_type": "markdown",
   "id": "bfb7bace",
   "metadata": {},
   "source": [
    "### Train"
   ]
  },
  {
   "cell_type": "code",
   "execution_count": 18,
   "id": "82e0d769",
   "metadata": {},
   "outputs": [
    {
     "name": "stderr",
     "output_type": "stream",
     "text": [
      "2021-11-16 12:38:28.415424: I tensorflow/compiler/mlir/mlir_graph_optimization_pass.cc:116] None of the MLIR optimization passes are enabled (registered 2)\n",
      "2021-11-16 12:38:28.435045: I tensorflow/core/platform/profile_utils/cpu_utils.cc:112] CPU Frequency: 3498265000 Hz\n"
     ]
    },
    {
     "name": "stdout",
     "output_type": "stream",
     "text": [
      "Epoch 1/20\n",
      "16/16 [==============================] - 1s 42ms/step - loss: 3.2285 - accuracy: 0.3215 - val_loss: 1.8971 - val_accuracy: 0.6270\n",
      "Epoch 2/20\n",
      "16/16 [==============================] - 0s 16ms/step - loss: 1.6574 - accuracy: 0.6778 - val_loss: 1.3699 - val_accuracy: 0.7030\n",
      "Epoch 3/20\n",
      "16/16 [==============================] - 0s 16ms/step - loss: 1.1718 - accuracy: 0.7486 - val_loss: 1.1775 - val_accuracy: 0.7680\n",
      "Epoch 4/20\n",
      "16/16 [==============================] - 0s 15ms/step - loss: 0.8851 - accuracy: 0.8129 - val_loss: 1.0711 - val_accuracy: 0.7840\n",
      "Epoch 5/20\n",
      "16/16 [==============================] - 0s 15ms/step - loss: 0.6803 - accuracy: 0.8590 - val_loss: 1.0081 - val_accuracy: 0.7980\n",
      "Epoch 6/20\n",
      "16/16 [==============================] - 0s 15ms/step - loss: 0.5788 - accuracy: 0.8837 - val_loss: 0.9411 - val_accuracy: 0.8120\n",
      "Epoch 7/20\n",
      "16/16 [==============================] - 0s 15ms/step - loss: 0.4470 - accuracy: 0.9126 - val_loss: 0.8993 - val_accuracy: 0.8190\n",
      "Epoch 8/20\n",
      "16/16 [==============================] - 0s 16ms/step - loss: 0.3651 - accuracy: 0.9300 - val_loss: 0.8821 - val_accuracy: 0.8210\n",
      "Epoch 9/20\n",
      "16/16 [==============================] - 0s 16ms/step - loss: 0.2976 - accuracy: 0.9401 - val_loss: 0.9012 - val_accuracy: 0.8080\n",
      "Epoch 10/20\n",
      "16/16 [==============================] - 0s 15ms/step - loss: 0.2465 - accuracy: 0.9498 - val_loss: 0.9436 - val_accuracy: 0.8150\n",
      "Epoch 11/20\n",
      "16/16 [==============================] - 0s 15ms/step - loss: 0.2064 - accuracy: 0.9507 - val_loss: 0.9186 - val_accuracy: 0.8210\n",
      "Epoch 12/20\n",
      "16/16 [==============================] - 0s 15ms/step - loss: 0.1827 - accuracy: 0.9556 - val_loss: 0.9050 - val_accuracy: 0.8280\n",
      "Epoch 13/20\n",
      "16/16 [==============================] - 0s 16ms/step - loss: 0.1624 - accuracy: 0.9535 - val_loss: 0.9336 - val_accuracy: 0.8190\n",
      "Epoch 14/20\n",
      "16/16 [==============================] - 0s 16ms/step - loss: 0.1398 - accuracy: 0.9610 - val_loss: 0.9814 - val_accuracy: 0.8140\n",
      "Epoch 15/20\n",
      "16/16 [==============================] - 0s 16ms/step - loss: 0.1479 - accuracy: 0.9514 - val_loss: 1.0001 - val_accuracy: 0.8160\n",
      "Epoch 16/20\n",
      "16/16 [==============================] - 0s 15ms/step - loss: 0.1238 - accuracy: 0.9599 - val_loss: 1.0445 - val_accuracy: 0.8060\n",
      "Epoch 17/20\n",
      "16/16 [==============================] - 0s 16ms/step - loss: 0.1189 - accuracy: 0.9619 - val_loss: 0.9966 - val_accuracy: 0.8120\n",
      "Epoch 18/20\n",
      "16/16 [==============================] - 0s 15ms/step - loss: 0.1033 - accuracy: 0.9653 - val_loss: 1.0256 - val_accuracy: 0.8080\n",
      "Epoch 19/20\n",
      "16/16 [==============================] - 0s 15ms/step - loss: 0.1022 - accuracy: 0.9600 - val_loss: 1.0722 - val_accuracy: 0.8050\n",
      "Epoch 20/20\n",
      "16/16 [==============================] - 0s 13ms/step - loss: 0.1121 - accuracy: 0.9590 - val_loss: 1.0546 - val_accuracy: 0.8140\n"
     ]
    }
   ],
   "source": [
    "history = model.fit(partial_x_train,\n",
    "                    partial_y_train,\n",
    "                    epochs=20,\n",
    "                    batch_size=512,\n",
    "                    validation_data=(x_val, y_val))"
   ]
  },
  {
   "cell_type": "code",
   "execution_count": 19,
   "id": "d0a58339",
   "metadata": {},
   "outputs": [
    {
     "data": {
      "image/png": "[encoded data removed]",
      "text/plain": [
       "<Figure size 432x288 with 1 Axes>"
      ]
     },
     "metadata": {
      "needs_background": "light"
     },
     "output_type": "display_data"
    }
   ],
   "source": [
    "loss = history.history[\"loss\"]\n",
    "val_loss = history.history[\"val_loss\"]\n",
    "epochs = range(1, len(loss) + 1)\n",
    "plt.plot(epochs, loss, \"bo\", label=\"Training loss\")\n",
    "plt.plot(epochs, val_loss, \"b\", label=\"Validation loss\")\n",
    "plt.title(\"Training and validation loss\")\n",
    "plt.xlabel(\"Epochs\")\n",
    "plt.ylabel(\"Loss\")\n",
    "plt.legend()\n",
    "plt.show()"
   ]
  },
  {
   "cell_type": "code",
   "execution_count": 20,
   "id": "7d68c518",
   "metadata": {},
   "outputs": [
    {
     "data": {
      "image/png": "[encoded data removed]",
      "text/plain": [
       "<Figure size 432x288 with 1 Axes>"
      ]
     },
     "metadata": {
      "needs_background": "light"
     },
     "output_type": "display_data"
    }
   ],
   "source": [
    "plt.clf()\n",
    "acc = history.history[\"accuracy\"]\n",
    "val_acc = history.history[\"val_accuracy\"]\n",
    "plt.plot(epochs, acc, \"bo\", label=\"Training accuracy\")\n",
    "plt.plot(epochs, val_acc, \"b\", label=\"Validation accuracy\")\n",
    "plt.title(\"Training and validation accuracy\")\n",
    "plt.xlabel(\"Epochs\")\n",
    "plt.ylabel(\"Accuracy\")\n",
    "plt.legend()\n",
    "plt.show()"
   ]
  },
  {
   "cell_type": "markdown",
   "id": "a40434a5",
   "metadata": {},
   "source": [
    "\n",
    "\n",
    "The model begins to overfit after nine epochs. Let’s train a new model from scratch for nine epochs and then evaluate it on the test set.\n"
   ]
  },
  {
   "cell_type": "code",
   "execution_count": 21,
   "id": "f192ca6e",
   "metadata": {},
   "outputs": [
    {
     "name": "stdout",
     "output_type": "stream",
     "text": [
      "Epoch 1/9\n",
      "18/18 [==============================] - 1s 13ms/step - loss: 3.0698 - accuracy: 0.4425\n",
      "Epoch 2/9\n",
      "18/18 [==============================] - 0s 14ms/step - loss: 1.4112 - accuracy: 0.7145\n",
      "Epoch 3/9\n",
      "18/18 [==============================] - 0s 14ms/step - loss: 1.0394 - accuracy: 0.7746\n",
      "Epoch 4/9\n",
      "18/18 [==============================] - 0s 13ms/step - loss: 0.7980 - accuracy: 0.8328\n",
      "Epoch 5/9\n",
      "18/18 [==============================] - 0s 13ms/step - loss: 0.6282 - accuracy: 0.8707\n",
      "Epoch 6/9\n",
      "18/18 [==============================] - 0s 13ms/step - loss: 0.5042 - accuracy: 0.8937\n",
      "Epoch 7/9\n",
      "18/18 [==============================] - 0s 15ms/step - loss: 0.4177 - accuracy: 0.9140\n",
      "Epoch 8/9\n",
      "18/18 [==============================] - 0s 14ms/step - loss: 0.3168 - accuracy: 0.9342\n",
      "Epoch 9/9\n",
      "18/18 [==============================] - 0s 12ms/step - loss: 0.2761 - accuracy: 0.9414\n",
      "71/71 [==============================] - 0s 1ms/step - loss: 0.9576 - accuracy: 0.7992\n"
     ]
    }
   ],
   "source": [
    "model = keras.Sequential([\n",
    "    layers.Dense(64, activation=\"relu\"),\n",
    "    layers.Dense(64, activation=\"relu\"),\n",
    "    layers.Dense(46, activation=\"softmax\")\n",
    "])\n",
    "model.compile(optimizer=\"rmsprop\",\n",
    "              loss=\"categorical_crossentropy\",\n",
    "              metrics=[\"accuracy\"])\n",
    "model.fit(x_train,\n",
    "          y_train,\n",
    "          epochs=9,\n",
    "          batch_size=512)\n",
    "results = model.evaluate(x_test, y_test)"
   ]
  },
  {
   "cell_type": "code",
   "execution_count": 22,
   "id": "ea87e597",
   "metadata": {},
   "outputs": [
    {
     "data": {
      "text/plain": [
       "[0.9576470255851746, 0.799198567867279]"
      ]
     },
     "execution_count": 22,
     "metadata": {},
     "output_type": "execute_result"
    }
   ],
   "source": [
    "results"
   ]
  },
  {
   "cell_type": "markdown",
   "id": "03731542",
   "metadata": {},
   "source": [
    "### accuracy of a random classifier"
   ]
  },
  {
   "cell_type": "code",
   "execution_count": 23,
   "id": "275d5b8e",
   "metadata": {},
   "outputs": [
    {
     "data": {
      "text/plain": [
       "0.18788958147818344"
      ]
     },
     "execution_count": 23,
     "metadata": {},
     "output_type": "execute_result"
    }
   ],
   "source": [
    "import copy\n",
    "test_labels_copy = copy.copy(test_labels)\n",
    "np.random.shuffle(test_labels_copy)\n",
    "hits_array = np.array(test_labels) == np.array(test_labels_copy)\n",
    "hits_array.mean()"
   ]
  },
  {
   "cell_type": "markdown",
   "id": "46b4d759",
   "metadata": {},
   "source": [
    "## Generating predictions on new data"
   ]
  },
  {
   "cell_type": "code",
   "execution_count": 24,
   "id": "109a61f7",
   "metadata": {},
   "outputs": [],
   "source": [
    "predictions = model.predict(x_test)"
   ]
  },
  {
   "cell_type": "code",
   "execution_count": 25,
   "id": "1e2a0ba7",
   "metadata": {},
   "outputs": [
    {
     "data": {
      "text/plain": [
       "(2246, 46)"
      ]
     },
     "execution_count": 25,
     "metadata": {},
     "output_type": "execute_result"
    }
   ],
   "source": [
    "predictions.shape"
   ]
  },
  {
   "cell_type": "code",
   "execution_count": 26,
   "id": "83d37e65",
   "metadata": {},
   "outputs": [
    {
     "data": {
      "text/plain": [
       "array([ 3, 10,  1, ...,  3,  4,  1])"
      ]
     },
     "execution_count": 26,
     "metadata": {},
     "output_type": "execute_result"
    }
   ],
   "source": [
    "np.argmax(predictions,axis=1)"
   ]
  },
  {
   "cell_type": "markdown",
   "id": "dff3929d",
   "metadata": {},
   "source": [
    "## A different way to handle the labels and the loss\n",
    "\n",
    "We mentioned earlier that another way to encode the labels would be to cast them as an integer tensor, like this:"
   ]
  },
  {
   "cell_type": "code",
   "execution_count": 27,
   "id": "d1c62df1",
   "metadata": {},
   "outputs": [],
   "source": [
    "y_train = np.array(train_labels)\n",
    "y_test = np.array(test_labels)"
   ]
  },
  {
   "cell_type": "markdown",
   "id": "8afbf423",
   "metadata": {},
   "source": [
    "The only thing this approach would change is the choice of the loss function. The loss function used in listing 4.21, categorical_crossentropy, expects the labels to follow a categorical encoding. With integer labels, you should use sparse_categorical_ crossentropy"
   ]
  },
  {
   "cell_type": "code",
   "execution_count": 28,
   "id": "588fea78",
   "metadata": {},
   "outputs": [],
   "source": [
    "model.compile(optimizer=\"rmsprop\",\n",
    "              loss=\"sparse_categorical_crossentropy\",\n",
    "              metrics=[\"accuracy\"])"
   ]
  },
  {
   "cell_type": "markdown",
   "id": "96e33eb8",
   "metadata": {},
   "source": [
    "|This new loss function is still mathematically the same as categorical_crossentropy; it just has a different interface. "
   ]
  },
  {
   "cell_type": "markdown",
   "id": "37214e3b",
   "metadata": {},
   "source": [
    "##  The importance of having sufficiently large intermediate layers"
   ]
  },
  {
   "cell_type": "markdown",
   "id": "6e4e5df2",
   "metadata": {},
   "source": [
    "We mentioned earlier that because the final outputs are 46-dimensional, you should avoid intermediate layers with many fewer than 46 units. Now let’s see what happens when we introduce an information bottleneck by having intermediate layers that are significantly less than 46-dimensional: for example, 4-dimensional."
   ]
  },
  {
   "cell_type": "code",
   "execution_count": 29,
   "id": "6e3633b0",
   "metadata": {},
   "outputs": [
    {
     "name": "stdout",
     "output_type": "stream",
     "text": [
      "Epoch 1/20\n",
      "63/63 [==============================] - 1s 8ms/step - loss: 3.5035 - accuracy: 0.2555 - val_loss: 2.9154 - val_accuracy: 0.2370\n",
      "Epoch 2/20\n",
      "63/63 [==============================] - 0s 6ms/step - loss: 2.6917 - accuracy: 0.2570 - val_loss: 2.3230 - val_accuracy: 0.2980\n",
      "Epoch 3/20\n",
      "63/63 [==============================] - 0s 6ms/step - loss: 1.9783 - accuracy: 0.4249 - val_loss: 1.5587 - val_accuracy: 0.6380\n",
      "Epoch 4/20\n",
      "63/63 [==============================] - 0s 7ms/step - loss: 1.2909 - accuracy: 0.6790 - val_loss: 1.4151 - val_accuracy: 0.6480\n",
      "Epoch 5/20\n",
      "63/63 [==============================] - 0s 6ms/step - loss: 1.1231 - accuracy: 0.7046 - val_loss: 1.3930 - val_accuracy: 0.6560\n",
      "Epoch 6/20\n",
      "63/63 [==============================] - 0s 6ms/step - loss: 1.0401 - accuracy: 0.7263 - val_loss: 1.3838 - val_accuracy: 0.6600\n",
      "Epoch 7/20\n",
      "63/63 [==============================] - 0s 6ms/step - loss: 0.9326 - accuracy: 0.7462 - val_loss: 1.3731 - val_accuracy: 0.6710\n",
      "Epoch 8/20\n",
      "63/63 [==============================] - 0s 6ms/step - loss: 0.9028 - accuracy: 0.7433 - val_loss: 1.3762 - val_accuracy: 0.6810\n",
      "Epoch 9/20\n",
      "63/63 [==============================] - 0s 6ms/step - loss: 0.8150 - accuracy: 0.7699 - val_loss: 1.4683 - val_accuracy: 0.6810\n",
      "Epoch 10/20\n",
      "63/63 [==============================] - 0s 6ms/step - loss: 0.7565 - accuracy: 0.7913 - val_loss: 1.4554 - val_accuracy: 0.6930\n",
      "Epoch 11/20\n",
      "63/63 [==============================] - 0s 6ms/step - loss: 0.7156 - accuracy: 0.8009 - val_loss: 1.4579 - val_accuracy: 0.6880\n",
      "Epoch 12/20\n",
      "63/63 [==============================] - 0s 6ms/step - loss: 0.6515 - accuracy: 0.8218 - val_loss: 1.4999 - val_accuracy: 0.6900\n",
      "Epoch 13/20\n",
      "63/63 [==============================] - 0s 7ms/step - loss: 0.6145 - accuracy: 0.8269 - val_loss: 1.5638 - val_accuracy: 0.6970\n",
      "Epoch 14/20\n",
      "63/63 [==============================] - 0s 6ms/step - loss: 0.5806 - accuracy: 0.8346 - val_loss: 1.6126 - val_accuracy: 0.6910\n",
      "Epoch 15/20\n",
      "63/63 [==============================] - 0s 6ms/step - loss: 0.5537 - accuracy: 0.8374 - val_loss: 1.7094 - val_accuracy: 0.6910\n",
      "Epoch 16/20\n",
      "63/63 [==============================] - 0s 6ms/step - loss: 0.5382 - accuracy: 0.8385 - val_loss: 1.7454 - val_accuracy: 0.6940\n",
      "Epoch 17/20\n",
      "63/63 [==============================] - 0s 6ms/step - loss: 0.5033 - accuracy: 0.8476 - val_loss: 1.8182 - val_accuracy: 0.7030\n",
      "Epoch 18/20\n",
      "63/63 [==============================] - 0s 6ms/step - loss: 0.4922 - accuracy: 0.8560 - val_loss: 1.8816 - val_accuracy: 0.7030\n",
      "Epoch 19/20\n",
      "63/63 [==============================] - 0s 7ms/step - loss: 0.4542 - accuracy: 0.8624 - val_loss: 1.8210 - val_accuracy: 0.7080\n",
      "Epoch 20/20\n",
      "63/63 [==============================] - 0s 6ms/step - loss: 0.4460 - accuracy: 0.8697 - val_loss: 1.9170 - val_accuracy: 0.7100\n"
     ]
    },
    {
     "data": {
      "text/plain": [
       "<tensorflow.python.keras.callbacks.History at 0x7fba36f386a0>"
      ]
     },
     "execution_count": 29,
     "metadata": {},
     "output_type": "execute_result"
    }
   ],
   "source": [
    "model = keras.Sequential([\n",
    "    layers.Dense(64, activation=\"relu\"),\n",
    "    layers.Dense(4, activation=\"relu\"),\n",
    "    layers.Dense(46, activation=\"softmax\")\n",
    "])\n",
    "model.compile(optimizer=\"rmsprop\",\n",
    "              loss=\"categorical_crossentropy\",\n",
    "              metrics=[\"accuracy\"])\n",
    "model.fit(partial_x_train,\n",
    "          partial_y_train,\n",
    "          epochs=20,\n",
    "          batch_size=128,\n",
    "          validation_data=(x_val, y_val))"
   ]
  },
  {
   "cell_type": "markdown",
   "id": "a418908c",
   "metadata": {},
   "source": [
    "This does worse."
   ]
  },
  {
   "cell_type": "markdown",
   "id": "b00e8fd2",
   "metadata": {},
   "source": [
    "## Further experiments\n",
    "\n",
    "Like in the previous example, I encourage you to try out the following experiments to train your intuition about the kind of configuration decisions you have to make with such models:\n",
    "\n",
    "+ Try using larger or smaller layers: 32 units, 128 units, and so on.\n",
    "+ You used two intermediate layers before the final softmax classification layer. Now try using a single intermediate layer, or three intermediate layers.\n",
    "\n",
    "\n",
    "## Wrapping up\n",
    "\n",
    "Here’s what you should take away from this example:\n",
    "\n",
    "+ If you’re trying to classify data points among N classes, your model should end with a Dense layer of size N.\n",
    "+ In a single-label, multiclass classification problem, your model should end with a softmax activation so that it will output a probability distribution over the N output classes.\n",
    "+ Categorical crossentropy is almost always the loss function you should use for such problems. It minimizes the distance between the probability distributions output by the model and the true distribution of the targets.\n",
    "+ There are two ways to handle labels in multiclass classification:\n",
    "  + Encoding the labels via categorical encoding (also known as one-hot encoding) and using categorical_crossentropy as a loss function\n",
    "  + Encoding the labels as integers and using the sparse_categorical_crossentropy loss function\n",
    "+ If you need to classify data into a large number of categories, you should avoid creating information bottlenecks in your model due to intermediate layers that are too small. \n"
   ]
  },
  {
   "cell_type": "code",
   "execution_count": null,
   "id": "70c8d2d6",
   "metadata": {},
   "outputs": [],
   "source": []
  }
 ],
 "metadata": {
  "kernelspec": {
   "display_name": "Python 3 (ipykernel)",
   "language": "python",
   "name": "python3"
  },
  "language_info": {
   "codemirror_mode": {
    "name": "ipython",
    "version": 3
   },
   "file_extension": ".py",
   "mimetype": "text/x-python",
   "name": "python",
   "nbconvert_exporter": "python",
   "pygments_lexer": "ipython3",
   "version": "3.9.5"
  }
 },
 "nbformat": 4,
 "nbformat_minor": 5
}
