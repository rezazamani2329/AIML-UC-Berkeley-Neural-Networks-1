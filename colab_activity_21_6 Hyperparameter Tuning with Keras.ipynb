{
  "cells": [
    {
      "cell_type": "markdown",
      "metadata": {
        "id": "gx19QM6tFbSo",
        "nbgrader": {
          "grade": false,
          "grade_id": "cell-e339d70cd0649a8c",
          "locked": true,
          "schema_version": 3,
          "solution": false,
          "task": false
        }
      },
      "source": [
        "### Colab Activity 21.6: Hyperparameter Tuning with Keras\n",
        "\n",
        "**Expected Time = 60 minutes**\n",
        "\n",
        "\n",
        "\n",
        "This activity focuses on using hyperparameter tuning with the `keras` library.  There are two ways to perform a grid search with `keras`, and you will implement both. While `keras_tuner` was discussed in the lectures, here you will use the `Scikit-Learn` wrapper for keras to grid search the parameters using `GridSearchCV`.  You will implement this with the `KerasClassifier` to build some basic models on the wine dataset.  \n",
        "\n",
        "#### Index\n",
        "\n",
        "- [Problem 1](#-Problem-1)\n",
        "- [Problem 2](#-Problem-2)\n",
        "- [Problem 3](#-Problem-3)\n",
        "- [Problem 4](#-Problem-4)"
      ]
    },
    {
      "cell_type": "code",
      "execution_count": null,
      "metadata": {
        "colab": {
          "base_uri": "https://localhost:8080/"
        },
        "id": "Wuf-HgwaFbSq",
        "outputId": "8027f320-ebb9-4808-907a-8eca2339e954"
      },
      "outputs": [],
      "source": [
        "!pip install scikeras\n",
        "import numpy as np\n",
        "import matplotlib.pyplot as plt\n",
        "import pandas as pd\n",
        "import tensorflow as tf\n",
        "import warnings\n",
        "warnings.filterwarnings('ignore')\n",
        "from scikeras.wrappers import KerasRegressor\n",
        "from sklearn.model_selection import GridSearchCV\n",
        "from sklearn.datasets import load_wine\n",
        "from sklearn.preprocessing import StandardScaler\n",
        "import tensorflow as tf\n",
        "from keras.utils import to_categorical "
      ]
    },
    {
      "cell_type": "markdown",
      "metadata": {
        "id": "kUgwLmG7FbSt",
        "nbgrader": {
          "grade": false,
          "grade_id": "cell-c00630cf57aecdf2",
          "locked": true,
          "schema_version": 3,
          "solution": false,
          "task": false
        }
      },
      "source": [
        "### The Data\n",
        "\n",
        "Below, the wine dataset is loaded, split, and scaled.  "
      ]
    },
    {
      "cell_type": "code",
      "execution_count": null,
      "metadata": {
        "id": "8AyP1qZkFbSu"
      },
      "outputs": [],
      "source": [
        "wine = load_wine(as_frame=True)"
      ]
    },
    {
      "cell_type": "code",
      "execution_count": null,
      "metadata": {
        "colab": {
          "base_uri": "https://localhost:8080/",
          "height": 224
        },
        "id": "CRRrDA7IFbSu",
        "outputId": "7a89c0ed-aeda-4eda-8f02-a8e93cee6077"
      },
      "outputs": [],
      "source": [
        "wine.frame.head()"
      ]
    },
    {
      "cell_type": "code",
      "execution_count": null,
      "metadata": {
        "colab": {
          "base_uri": "https://localhost:8080/"
        },
        "id": "oEa_efNbsB1z",
        "outputId": "cd1f0ce6-3f4f-4541-b3a6-4092ce1bd9c7"
      },
      "outputs": [],
      "source": [
        "wine.frame.info()"
      ]
    },
    {
      "cell_type": "code",
      "execution_count": null,
      "metadata": {
        "id": "kjlhRomuFbSv"
      },
      "outputs": [],
      "source": [
        "X = wine.data\n",
        "y = to_categorical(wine.target)"
      ]
    },
    {
      "cell_type": "code",
      "execution_count": null,
      "metadata": {
        "id": "NKgXGa3iFbSv"
      },
      "outputs": [],
      "source": [
        "X_scaled = StandardScaler().fit_transform(X)"
      ]
    },
    {
      "cell_type": "markdown",
      "metadata": {
        "id": "okNBBhdsFbSw",
        "nbgrader": {
          "grade": false,
          "grade_id": "cell-7318f421fe13c40e",
          "locked": true,
          "schema_version": 3,
          "solution": false,
          "task": false
        }
      },
      "source": [
        "[Back to top](#-Index)\n",
        "\n",
        "### Problem 1\n",
        "\n",
        "#### The Build Function\n",
        "\n",
        "\n",
        "\n",
        "To use the `KerasClassifier` you first need to write a function that creates a `keras` model and takes in arguments for the parameters you wish to search. The pseudocode for this function is given below:\n",
        "\n",
        "```python\n",
        "def create_model(optimizer=..., neurons=..., activation=..., input_dim=...):\n",
        "    model = tf.keras.models.Sequential()\n",
        "    model.add(tf.keras.layers.Dense(neurons, activation=activation, input_shape=(input_dim,)))\n",
        "    model.add(tf.keras.layers.Dense(1))  # Output layer for regression\n",
        "    model.compile(optimizer=..., loss=....)\n",
        "    return model\n",
        "```\n",
        "\n",
        "Your goal is to complete the definition of the `create_model` function using the arguments `optimizer = 'adam'` and `neurons=50` for `activation = 'relu'` and `input_dim = 13`. Inside the function, compile the model using the selected `optimizer` and `loss= 'mse'`.\n",
        "\n"
      ]
    },
    {
      "cell_type": "code",
      "execution_count": null,
      "metadata": {
        "colab": {
          "base_uri": "https://localhost:8080/",
          "height": 103
        },
        "id": "mRDsjBMZFbSw",
        "nbgrader": {
          "grade": false,
          "grade_id": "cell-a2bce77d17112fd1",
          "locked": false,
          "schema_version": 3,
          "solution": true,
          "task": false
        },
        "outputId": "2e18d296-c218-44c9-9e45-d74bb99c36bd"
      },
      "outputs": [],
      "source": [
        "\n",
        "tf.random.set_seed(42)\n",
        "# Function to create a fully connected neural network model for SciKeras\n",
        "def create_model(optimizer='adam', neurons=50, activation='relu', input_dim=13):\n",
        "    model = tf.keras.models.Sequential()\n",
        "    model.add(tf.keras.layers.Dense(neurons, activation=activation, input_shape=(input_dim,)))\n",
        "    model.add(tf.keras.layers.Dense(1))  # Output layer for regression\n",
        "    model.compile(optimizer=optimizer, loss='mse')\n",
        "    return model\n"
      ]
    },
    {
      "cell_type": "markdown",
      "metadata": {
        "id": "sgc7GKZcFbSx",
        "nbgrader": {
          "grade": false,
          "grade_id": "cell-2fb545190eb4b55d",
          "locked": true,
          "schema_version": 3,
          "solution": false,
          "task": false
        }
      },
      "source": [
        "[Back to top](#-Index)\n",
        "\n",
        "### Problem 2\n",
        "\n",
        "#### Creating the `KerasRegressos` model\n",
        "\n",
        "\n",
        "\n",
        "Now, use the `create_model` function to instantiate `KerasRegressor` as `model` with  `verbose = 2`.\n"
      ]
    },
    {
      "cell_type": "code",
      "execution_count": null,
      "metadata": {
        "id": "GOfZJBsYFbSx",
        "nbgrader": {
          "grade": false,
          "grade_id": "cell-0275116e4f507015",
          "locked": false,
          "schema_version": 3,
          "solution": true,
          "task": false
        }
      },
      "outputs": [],
      "source": [
        "\n",
        "# Keras model with SciKeras wrapper\n",
        "model = KerasRegressor(model=create_model, verbose=2)\n",
        "\n"
      ]
    },
    {
      "cell_type": "markdown",
      "metadata": {
        "id": "2mG8gpEyFbSx",
        "nbgrader": {
          "grade": false,
          "grade_id": "cell-d3d9e1ce9a8751ff",
          "locked": true,
          "schema_version": 3,
          "solution": false,
          "task": false
        }
      },
      "source": [
        "[Back to top](#-Index)\n",
        "\n",
        "### Problem 3\n",
        "\n",
        "#### Performing the Grid Search\n",
        "\n",
        "\n",
        "\n",
        "Now, to perform a grid search you just need to create a dictionary named `param_grid` with the hyperparameter `'model__neurons' : [10, 50, 100]`,     `'model__activation': ['relu', 'sigmoid']`,\n",
        "`'model__optimizer': ['adam', 'sgd']`, `'batch_size': [1, 10]`, and\n",
        "`'epochs': [10, 20]`.  "
      ]
    },
    {
      "cell_type": "code",
      "execution_count": null,
      "metadata": {
        "id": "JkoeQ4i0FbSy",
        "nbgrader": {
          "grade": false,
          "grade_id": "cell-8c00e8a1dee417d8",
          "locked": false,
          "schema_version": 3,
          "solution": true,
          "task": false
        }
      },
      "outputs": [],
      "source": [
        "\n",
        "tf.random.set_seed(42)\n",
        "# Hyperparameters to be optimized\n",
        "param_grid = {\n",
        "    'model__neurons': [10, 25, 50, 100],\n",
        "    'model__activation': ['relu', 'sigmoid'],\n",
        "    'model__optimizer': ['adam', 'sgd'],\n",
        "    'batch_size': [1, 10],\n",
        "    'epochs': [10, 20]\n",
        "}\n"
      ]
    },
    {
      "cell_type": "markdown",
      "metadata": {
        "id": "z-IrfQ1tFbSy",
        "nbgrader": {
          "grade": false,
          "grade_id": "cell-960b42fedb69b7e8",
          "locked": true,
          "schema_version": 3,
          "solution": false,
          "task": false
        }
      },
      "source": [
        "[Back to top](#-Index)\n",
        "\n",
        "### Problem 4\n",
        "\n",
        "#### Fit and Evaluate the model\n",
        "\n",
        "\n",
        "\n",
        "Use the `GridSearchCV` function with `estimator=model`, `param_grid=param_grid`, `scoring='neg_mean_squared_error'`, `cv=3`, and `verbose=2` to search your parameters and assign the results to `grid`. Next, use function `fit` on `grid` with the training data to fit your model."
      ]
    },
    {
      "cell_type": "code",
      "execution_count": null,
      "metadata": {
        "colab": {
          "base_uri": "https://localhost:8080/"
        },
        "id": "d5ARK-DYFbSz",
        "nbgrader": {
          "grade": false,
          "grade_id": "cell-f8e6edb517c71335",
          "locked": false,
          "schema_version": 3,
          "solution": true,
          "task": false
        },
        "outputId": "043b4467-8f88-4edc-a8c2-50d1b42fea7a"
      },
      "outputs": [],
      "source": [
        "# GridSearchCV for hyperparameter tuning\n",
        "grid = GridSearchCV(estimator=model, param_grid=param_grid, scoring='neg_mean_squared_error', cv=3, verbose=2)\n",
        "grid_result = grid.fit(X_scaled, y)\n",
        "\n",
        "# Display the best hyperparameters\n",
        "print(\"Best: %f using %s\" % (grid_result.best_score_, grid_result.best_params_))\n"
      ]
    },
    {
      "cell_type": "markdown",
      "metadata": {
        "id": "NDNNJz0Gxy9r"
      },
      "source": [
        "Finally, the results are written in a dataframe."
      ]
    },
    {
      "cell_type": "code",
      "execution_count": null,
      "metadata": {
        "colab": {
          "base_uri": "https://localhost:8080/"
        },
        "id": "Mb4uONhxx2co",
        "outputId": "b2a77920-d694-4cc1-cc88-6f28a9e4c86d"
      },
      "outputs": [],
      "source": [
        "\n",
        "# Extract and display results from GridSearchCV\n",
        "results = pd.DataFrame(grid_result.cv_results_)\n",
        "print(results.head())"
      ]
    },
    {
      "cell_type": "markdown",
      "metadata": {
        "id": "Nq709kRpFbSz",
        "nbgrader": {
          "grade": false,
          "grade_id": "cell-c15487b1ec27581b",
          "locked": true,
          "schema_version": 3,
          "solution": false,
          "task": false
        }
      },
      "source": [
        "Because of the grading enviornment, a more exhaustive search over additional parameters is not an option.  To extend the work here should be straightforward enough, and this is a nice solution to grid searching the hyperparameters of a model."
      ]
    }
  ],
  "metadata": {
    "celltoolbar": "Create Assignment",
    "colab": {
      "provenance": []
    },
    "kernelspec": {
      "display_name": "Python 3 (ipykernel)",
      "language": "python",
      "name": "python3"
    },
    "language_info": {
      "codemirror_mode": {
        "name": "ipython",
        "version": 3
      },
      "file_extension": ".py",
      "mimetype": "text/x-python",
      "name": "python",
      "nbconvert_exporter": "python",
      "pygments_lexer": "ipython3",
      "version": "3.11.10"
    }
  },
  "nbformat": 4,
  "nbformat_minor": 0
}
